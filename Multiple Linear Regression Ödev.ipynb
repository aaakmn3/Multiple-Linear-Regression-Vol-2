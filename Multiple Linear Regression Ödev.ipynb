{
 "cells": [
  {
   "cell_type": "code",
   "execution_count": 1,
   "id": "51352bae",
   "metadata": {},
   "outputs": [
    {
     "name": "stdout",
     "output_type": "stream",
     "text": [
      "Requirement already satisfied: xgboost in c:\\users\\18040\\anaconda3\\lib\\site-packages (1.6.1)\n",
      "Requirement already satisfied: numpy in c:\\users\\18040\\anaconda3\\lib\\site-packages (from xgboost) (1.21.5)\n",
      "Requirement already satisfied: scipy in c:\\users\\18040\\anaconda3\\lib\\site-packages (from xgboost) (1.7.3)\n"
     ]
    }
   ],
   "source": [
    "!pip install xgboost"
   ]
  },
  {
   "cell_type": "code",
   "execution_count": 2,
   "id": "b6db2b89",
   "metadata": {},
   "outputs": [],
   "source": [
    "import pandas as pd \n",
    "import numpy as np \n",
    "import matplotlib.pyplot as plt\n",
    "import seaborn as sns\n",
    "%matplotlib inline \n",
    "import seaborn as sns\n",
    "import warnings\n",
    "warnings.filterwarnings(\"ignore\")\n",
    "\n",
    "from sklearn.linear_model import LinearRegression \n",
    "lr = LinearRegression()\n",
    "from sklearn.model_selection import train_test_split\n",
    "from sklearn.metrics import mean_squared_error, r2_score,mean_absolute_error\n",
    "\n",
    "from sklearn.linear_model import Ridge, Lasso\n",
    "R = Ridge()\n",
    "L= Lasso()\n",
    "from sklearn.linear_model import ElasticNet\n",
    "E = ElasticNet(l1_ratio=.9)\n",
    "from sklearn.tree import ExtraTreeRegressor\n",
    "ETR = ExtraTreeRegressor()\n",
    "#from xgboost import XGBRegressor\n",
    "from sklearn.ensemble import GradientBoostingRegressor\n",
    "GBR = GradientBoostingRegressor()\n",
    "from sklearn.neighbors import KNeighborsRegressor\n",
    "est = KNeighborsRegressor()"
   ]
  },
  {
   "cell_type": "code",
   "execution_count": 3,
   "id": "f2160c9a",
   "metadata": {},
   "outputs": [],
   "source": [
    "df=pd.read_csv('advertising.csv')"
   ]
  },
  {
   "cell_type": "markdown",
   "id": "2dfdf3f2",
   "metadata": {},
   "source": [
    "### EDA"
   ]
  },
  {
   "cell_type": "code",
   "execution_count": 4,
   "id": "3d88cc75",
   "metadata": {},
   "outputs": [
    {
     "name": "stdout",
     "output_type": "stream",
     "text": [
      "<class 'pandas.core.frame.DataFrame'>\n",
      "RangeIndex: 200 entries, 0 to 199\n",
      "Data columns (total 4 columns):\n",
      " #   Column     Non-Null Count  Dtype  \n",
      "---  ------     --------------  -----  \n",
      " 0   TV         200 non-null    float64\n",
      " 1   Radio      200 non-null    float64\n",
      " 2   Newspaper  200 non-null    float64\n",
      " 3   Sales      200 non-null    float64\n",
      "dtypes: float64(4)\n",
      "memory usage: 6.4 KB\n"
     ]
    }
   ],
   "source": [
    "df.info()"
   ]
  },
  {
   "cell_type": "code",
   "execution_count": 5,
   "id": "14408171",
   "metadata": {},
   "outputs": [
    {
     "data": {
      "text/html": [
       "<div>\n",
       "<style scoped>\n",
       "    .dataframe tbody tr th:only-of-type {\n",
       "        vertical-align: middle;\n",
       "    }\n",
       "\n",
       "    .dataframe tbody tr th {\n",
       "        vertical-align: top;\n",
       "    }\n",
       "\n",
       "    .dataframe thead th {\n",
       "        text-align: right;\n",
       "    }\n",
       "</style>\n",
       "<table border=\"1\" class=\"dataframe\">\n",
       "  <thead>\n",
       "    <tr style=\"text-align: right;\">\n",
       "      <th></th>\n",
       "      <th>TV</th>\n",
       "      <th>Radio</th>\n",
       "      <th>Newspaper</th>\n",
       "      <th>Sales</th>\n",
       "    </tr>\n",
       "  </thead>\n",
       "  <tbody>\n",
       "    <tr>\n",
       "      <th>0</th>\n",
       "      <td>230.1</td>\n",
       "      <td>37.8</td>\n",
       "      <td>69.2</td>\n",
       "      <td>22.1</td>\n",
       "    </tr>\n",
       "    <tr>\n",
       "      <th>1</th>\n",
       "      <td>44.5</td>\n",
       "      <td>39.3</td>\n",
       "      <td>45.1</td>\n",
       "      <td>10.4</td>\n",
       "    </tr>\n",
       "    <tr>\n",
       "      <th>2</th>\n",
       "      <td>17.2</td>\n",
       "      <td>45.9</td>\n",
       "      <td>69.3</td>\n",
       "      <td>9.3</td>\n",
       "    </tr>\n",
       "    <tr>\n",
       "      <th>3</th>\n",
       "      <td>151.5</td>\n",
       "      <td>41.3</td>\n",
       "      <td>58.5</td>\n",
       "      <td>18.5</td>\n",
       "    </tr>\n",
       "    <tr>\n",
       "      <th>4</th>\n",
       "      <td>180.8</td>\n",
       "      <td>10.8</td>\n",
       "      <td>58.4</td>\n",
       "      <td>12.9</td>\n",
       "    </tr>\n",
       "  </tbody>\n",
       "</table>\n",
       "</div>"
      ],
      "text/plain": [
       "      TV  Radio  Newspaper  Sales\n",
       "0  230.1   37.8       69.2   22.1\n",
       "1   44.5   39.3       45.1   10.4\n",
       "2   17.2   45.9       69.3    9.3\n",
       "3  151.5   41.3       58.5   18.5\n",
       "4  180.8   10.8       58.4   12.9"
      ]
     },
     "execution_count": 5,
     "metadata": {},
     "output_type": "execute_result"
    }
   ],
   "source": [
    "df.head()"
   ]
  },
  {
   "cell_type": "code",
   "execution_count": 6,
   "id": "74e96dba",
   "metadata": {},
   "outputs": [
    {
     "data": {
      "text/html": [
       "<div>\n",
       "<style scoped>\n",
       "    .dataframe tbody tr th:only-of-type {\n",
       "        vertical-align: middle;\n",
       "    }\n",
       "\n",
       "    .dataframe tbody tr th {\n",
       "        vertical-align: top;\n",
       "    }\n",
       "\n",
       "    .dataframe thead th {\n",
       "        text-align: right;\n",
       "    }\n",
       "</style>\n",
       "<table border=\"1\" class=\"dataframe\">\n",
       "  <thead>\n",
       "    <tr style=\"text-align: right;\">\n",
       "      <th></th>\n",
       "      <th>TV</th>\n",
       "      <th>Radio</th>\n",
       "      <th>Newspaper</th>\n",
       "      <th>Sales</th>\n",
       "    </tr>\n",
       "  </thead>\n",
       "  <tbody>\n",
       "    <tr>\n",
       "      <th>147</th>\n",
       "      <td>243.2</td>\n",
       "      <td>49.0</td>\n",
       "      <td>44.3</td>\n",
       "      <td>25.4</td>\n",
       "    </tr>\n",
       "    <tr>\n",
       "      <th>81</th>\n",
       "      <td>239.8</td>\n",
       "      <td>4.1</td>\n",
       "      <td>36.9</td>\n",
       "      <td>12.3</td>\n",
       "    </tr>\n",
       "    <tr>\n",
       "      <th>180</th>\n",
       "      <td>156.6</td>\n",
       "      <td>2.6</td>\n",
       "      <td>8.3</td>\n",
       "      <td>10.5</td>\n",
       "    </tr>\n",
       "    <tr>\n",
       "      <th>188</th>\n",
       "      <td>286.0</td>\n",
       "      <td>13.9</td>\n",
       "      <td>3.7</td>\n",
       "      <td>15.9</td>\n",
       "    </tr>\n",
       "    <tr>\n",
       "      <th>74</th>\n",
       "      <td>213.4</td>\n",
       "      <td>24.6</td>\n",
       "      <td>13.1</td>\n",
       "      <td>17.0</td>\n",
       "    </tr>\n",
       "  </tbody>\n",
       "</table>\n",
       "</div>"
      ],
      "text/plain": [
       "        TV  Radio  Newspaper  Sales\n",
       "147  243.2   49.0       44.3   25.4\n",
       "81   239.8    4.1       36.9   12.3\n",
       "180  156.6    2.6        8.3   10.5\n",
       "188  286.0   13.9        3.7   15.9\n",
       "74   213.4   24.6       13.1   17.0"
      ]
     },
     "execution_count": 6,
     "metadata": {},
     "output_type": "execute_result"
    }
   ],
   "source": [
    "df.sample(5)"
   ]
  },
  {
   "cell_type": "code",
   "execution_count": 7,
   "id": "d66f3c49",
   "metadata": {},
   "outputs": [
    {
     "data": {
      "text/plain": [
       "TV           0\n",
       "Radio        0\n",
       "Newspaper    0\n",
       "Sales        0\n",
       "dtype: int64"
      ]
     },
     "execution_count": 7,
     "metadata": {},
     "output_type": "execute_result"
    }
   ],
   "source": [
    "df.isnull().sum()"
   ]
  },
  {
   "cell_type": "code",
   "execution_count": 8,
   "id": "10fdfdd1",
   "metadata": {},
   "outputs": [
    {
     "data": {
      "text/plain": [
       "Sales        1.000000\n",
       "TV           0.782224\n",
       "Radio        0.576223\n",
       "Newspaper    0.228299\n",
       "Name: Sales, dtype: float64"
      ]
     },
     "execution_count": 8,
     "metadata": {},
     "output_type": "execute_result"
    }
   ],
   "source": [
    "abs(df.corr()['Sales']).sort_values(ascending=False)"
   ]
  },
  {
   "cell_type": "code",
   "execution_count": 9,
   "id": "b21050ec",
   "metadata": {},
   "outputs": [
    {
     "data": {
      "text/html": [
       "<div>\n",
       "<style scoped>\n",
       "    .dataframe tbody tr th:only-of-type {\n",
       "        vertical-align: middle;\n",
       "    }\n",
       "\n",
       "    .dataframe tbody tr th {\n",
       "        vertical-align: top;\n",
       "    }\n",
       "\n",
       "    .dataframe thead th {\n",
       "        text-align: right;\n",
       "    }\n",
       "</style>\n",
       "<table border=\"1\" class=\"dataframe\">\n",
       "  <thead>\n",
       "    <tr style=\"text-align: right;\">\n",
       "      <th></th>\n",
       "      <th>TV</th>\n",
       "      <th>Radio</th>\n",
       "      <th>Newspaper</th>\n",
       "      <th>Sales</th>\n",
       "    </tr>\n",
       "  </thead>\n",
       "  <tbody>\n",
       "    <tr>\n",
       "      <th>count</th>\n",
       "      <td>200.000000</td>\n",
       "      <td>200.000000</td>\n",
       "      <td>200.000000</td>\n",
       "      <td>200.000000</td>\n",
       "    </tr>\n",
       "    <tr>\n",
       "      <th>mean</th>\n",
       "      <td>147.042500</td>\n",
       "      <td>23.264000</td>\n",
       "      <td>30.554000</td>\n",
       "      <td>14.022500</td>\n",
       "    </tr>\n",
       "    <tr>\n",
       "      <th>std</th>\n",
       "      <td>85.854236</td>\n",
       "      <td>14.846809</td>\n",
       "      <td>21.778621</td>\n",
       "      <td>5.217457</td>\n",
       "    </tr>\n",
       "    <tr>\n",
       "      <th>min</th>\n",
       "      <td>0.700000</td>\n",
       "      <td>0.000000</td>\n",
       "      <td>0.300000</td>\n",
       "      <td>1.600000</td>\n",
       "    </tr>\n",
       "    <tr>\n",
       "      <th>25%</th>\n",
       "      <td>74.375000</td>\n",
       "      <td>9.975000</td>\n",
       "      <td>12.750000</td>\n",
       "      <td>10.375000</td>\n",
       "    </tr>\n",
       "    <tr>\n",
       "      <th>50%</th>\n",
       "      <td>149.750000</td>\n",
       "      <td>22.900000</td>\n",
       "      <td>25.750000</td>\n",
       "      <td>12.900000</td>\n",
       "    </tr>\n",
       "    <tr>\n",
       "      <th>75%</th>\n",
       "      <td>218.825000</td>\n",
       "      <td>36.525000</td>\n",
       "      <td>45.100000</td>\n",
       "      <td>17.400000</td>\n",
       "    </tr>\n",
       "    <tr>\n",
       "      <th>max</th>\n",
       "      <td>296.400000</td>\n",
       "      <td>49.600000</td>\n",
       "      <td>114.000000</td>\n",
       "      <td>27.000000</td>\n",
       "    </tr>\n",
       "  </tbody>\n",
       "</table>\n",
       "</div>"
      ],
      "text/plain": [
       "               TV       Radio   Newspaper       Sales\n",
       "count  200.000000  200.000000  200.000000  200.000000\n",
       "mean   147.042500   23.264000   30.554000   14.022500\n",
       "std     85.854236   14.846809   21.778621    5.217457\n",
       "min      0.700000    0.000000    0.300000    1.600000\n",
       "25%     74.375000    9.975000   12.750000   10.375000\n",
       "50%    149.750000   22.900000   25.750000   12.900000\n",
       "75%    218.825000   36.525000   45.100000   17.400000\n",
       "max    296.400000   49.600000  114.000000   27.000000"
      ]
     },
     "execution_count": 9,
     "metadata": {},
     "output_type": "execute_result"
    }
   ],
   "source": [
    "df.describe()"
   ]
  },
  {
   "cell_type": "code",
   "execution_count": 10,
   "id": "82ab4bdf",
   "metadata": {},
   "outputs": [
    {
     "data": {
      "text/plain": [
       "<seaborn.axisgrid.PairGrid at 0x1d889b0efa0>"
      ]
     },
     "execution_count": 10,
     "metadata": {},
     "output_type": "execute_result"
    },
    {
     "data": {
      "image/png": "[encoded data removed]",
      "text/plain": [
       "<Figure size 588.75x540 with 12 Axes>"
      ]
     },
     "metadata": {
      "needs_background": "light"
     },
     "output_type": "display_data"
    }
   ],
   "source": [
    "sns.pairplot(df, hue='Sales',palette='afmhot',size=2.5)"
   ]
  },
  {
   "cell_type": "code",
   "execution_count": 11,
   "id": "85c16a49",
   "metadata": {},
   "outputs": [],
   "source": [
    "x = df[['TV','Radio','Newspaper']]"
   ]
  },
  {
   "cell_type": "code",
   "execution_count": 12,
   "id": "d0b63879",
   "metadata": {},
   "outputs": [],
   "source": [
    "y = df[['Sales']]"
   ]
  },
  {
   "cell_type": "code",
   "execution_count": 13,
   "id": "5e7e3fa6",
   "metadata": {},
   "outputs": [
    {
     "data": {
      "text/plain": [
       "(200, 4)"
      ]
     },
     "execution_count": 13,
     "metadata": {},
     "output_type": "execute_result"
    }
   ],
   "source": [
    "df.shape"
   ]
  },
  {
   "cell_type": "code",
   "execution_count": 14,
   "id": "74ed1e7b",
   "metadata": {},
   "outputs": [
    {
     "data": {
      "text/plain": [
       "(200, 3)"
      ]
     },
     "execution_count": 14,
     "metadata": {},
     "output_type": "execute_result"
    }
   ],
   "source": [
    "x.shape"
   ]
  },
  {
   "cell_type": "code",
   "execution_count": 15,
   "id": "bff30aec",
   "metadata": {},
   "outputs": [
    {
     "data": {
      "text/plain": [
       "(200, 1)"
      ]
     },
     "execution_count": 15,
     "metadata": {},
     "output_type": "execute_result"
    }
   ],
   "source": [
    "y.shape"
   ]
  },
  {
   "cell_type": "code",
   "execution_count": 16,
   "id": "2d5d67c1",
   "metadata": {},
   "outputs": [],
   "source": [
    "x_train, x_test,y_train, y_test = train_test_split(x,y,test_size=0.20,random_state=13)"
   ]
  },
  {
   "cell_type": "code",
   "execution_count": 17,
   "id": "0923b07e",
   "metadata": {},
   "outputs": [
    {
     "data": {
      "text/plain": [
       "((160, 3), (40, 3), (160, 1), (40, 1))"
      ]
     },
     "execution_count": 17,
     "metadata": {},
     "output_type": "execute_result"
    }
   ],
   "source": [
    "x_train.shape, x_test.shape,y_train.shape, y_test.shape "
   ]
  },
  {
   "cell_type": "code",
   "execution_count": 18,
   "id": "2f7d0a3e",
   "metadata": {},
   "outputs": [],
   "source": [
    "regmodel = lr.fit(x_train,y_train)"
   ]
  },
  {
   "cell_type": "code",
   "execution_count": 19,
   "id": "930de8a6",
   "metadata": {},
   "outputs": [
    {
     "data": {
      "text/plain": [
       "array([[12.41367767],\n",
       "       [ 5.32067348],\n",
       "       [16.55144938],\n",
       "       [12.36717245],\n",
       "       [12.71077284],\n",
       "       [23.63881378],\n",
       "       [21.62206727],\n",
       "       [14.74035857],\n",
       "       [22.19982768],\n",
       "       [15.32872133],\n",
       "       [16.21757736],\n",
       "       [ 6.10442096],\n",
       "       [ 7.88988888],\n",
       "       [18.91129331],\n",
       "       [17.68863982],\n",
       "       [16.7673735 ],\n",
       "       [ 8.42129698],\n",
       "       [ 9.69259232],\n",
       "       [20.29047962],\n",
       "       [17.71616686],\n",
       "       [12.01762517],\n",
       "       [ 7.84345791],\n",
       "       [21.58818774],\n",
       "       [12.12397718],\n",
       "       [17.11548063],\n",
       "       [19.33168908],\n",
       "       [10.05575241],\n",
       "       [14.1727504 ],\n",
       "       [23.07525292],\n",
       "       [ 8.76424307],\n",
       "       [15.4412187 ],\n",
       "       [18.25749861],\n",
       "       [17.77840777],\n",
       "       [ 7.04391172],\n",
       "       [16.88038275],\n",
       "       [ 8.86721612],\n",
       "       [10.0519968 ],\n",
       "       [20.67873857],\n",
       "       [ 5.40059981],\n",
       "       [10.49904798]])"
      ]
     },
     "execution_count": 19,
     "metadata": {},
     "output_type": "execute_result"
    }
   ],
   "source": [
    "y_pretest = regmodel.predict(x_test)\n",
    "y_pretest"
   ]
  },
  {
   "cell_type": "code",
   "execution_count": 20,
   "id": "21e9869c",
   "metadata": {},
   "outputs": [
    {
     "data": {
      "text/plain": [
       "array([[12.41367767],\n",
       "       [ 5.32067348],\n",
       "       [16.55144938],\n",
       "       [12.36717245],\n",
       "       [12.71077284],\n",
       "       [23.63881378],\n",
       "       [21.62206727],\n",
       "       [14.74035857],\n",
       "       [22.19982768],\n",
       "       [15.32872133],\n",
       "       [16.21757736],\n",
       "       [ 6.10442096],\n",
       "       [ 7.88988888],\n",
       "       [18.91129331],\n",
       "       [17.68863982],\n",
       "       [16.7673735 ],\n",
       "       [ 8.42129698],\n",
       "       [ 9.69259232],\n",
       "       [20.29047962],\n",
       "       [17.71616686],\n",
       "       [12.01762517],\n",
       "       [ 7.84345791],\n",
       "       [21.58818774],\n",
       "       [12.12397718],\n",
       "       [17.11548063],\n",
       "       [19.33168908],\n",
       "       [10.05575241],\n",
       "       [14.1727504 ],\n",
       "       [23.07525292],\n",
       "       [ 8.76424307],\n",
       "       [15.4412187 ],\n",
       "       [18.25749861],\n",
       "       [17.77840777],\n",
       "       [ 7.04391172],\n",
       "       [16.88038275],\n",
       "       [ 8.86721612],\n",
       "       [10.0519968 ],\n",
       "       [20.67873857],\n",
       "       [ 5.40059981],\n",
       "       [10.49904798]])"
      ]
     },
     "execution_count": 20,
     "metadata": {},
     "output_type": "execute_result"
    }
   ],
   "source": [
    "y_pretest = regmodel.predict(x_test)\n",
    "y_pretest"
   ]
  },
  {
   "cell_type": "code",
   "execution_count": 21,
   "id": "e9427c5c",
   "metadata": {},
   "outputs": [
    {
     "data": {
      "text/plain": [
       "1.4450331170699846"
      ]
     },
     "execution_count": 21,
     "metadata": {},
     "output_type": "execute_result"
    }
   ],
   "source": [
    "(mean_squared_error(y_test, y_pretest)) ** 0.5"
   ]
  },
  {
   "cell_type": "code",
   "execution_count": 22,
   "id": "00a9a2f1",
   "metadata": {},
   "outputs": [
    {
     "data": {
      "text/plain": [
       "0.923230430701987"
      ]
     },
     "execution_count": 22,
     "metadata": {},
     "output_type": "execute_result"
    }
   ],
   "source": [
    "r2_score( y_pretest,y_test)"
   ]
  },
  {
   "cell_type": "code",
   "execution_count": 23,
   "id": "9c0a1f40",
   "metadata": {},
   "outputs": [],
   "source": [
    "R.fit(x_train, y_train)\n",
    "y_pred_ridge = R.predict(x_test)"
   ]
  },
  {
   "cell_type": "code",
   "execution_count": 24,
   "id": "be0bfdfd",
   "metadata": {},
   "outputs": [
    {
     "data": {
      "text/plain": [
       "1.4450443882913804"
      ]
     },
     "execution_count": 24,
     "metadata": {},
     "output_type": "execute_result"
    }
   ],
   "source": [
    "(mean_squared_error(y_test, y_pred_ridge))**0.5"
   ]
  },
  {
   "cell_type": "code",
   "execution_count": 25,
   "id": "624c92da",
   "metadata": {},
   "outputs": [
    {
     "data": {
      "text/plain": [
       "0.9308578548094248"
      ]
     },
     "execution_count": 25,
     "metadata": {},
     "output_type": "execute_result"
    }
   ],
   "source": [
    "r2_score(y_test, y_pred_ridge)"
   ]
  },
  {
   "cell_type": "code",
   "execution_count": 26,
   "id": "52396bbf",
   "metadata": {},
   "outputs": [],
   "source": [
    "L.fit(x_train, y_train)\n",
    "y_pred_lasso = L.predict(x_test)"
   ]
  },
  {
   "cell_type": "code",
   "execution_count": 27,
   "id": "797b4914",
   "metadata": {},
   "outputs": [
    {
     "data": {
      "text/plain": [
       "array([12.45649332,  5.337478  , 16.57121349, 12.41055088, 12.75655791,\n",
       "       23.61544425, 21.50564275, 14.89396963, 21.96976612, 15.3172846 ,\n",
       "       16.23055875,  6.18818676,  7.90069203, 18.83857756, 17.73000939,\n",
       "       16.68670668,  8.33656844,  9.76873812, 20.15041517, 17.69273802,\n",
       "       12.06403668,  7.95455102, 21.58130585, 12.09869115, 17.18299647,\n",
       "       19.39221625, 10.16931155, 14.43083081, 23.17868376,  8.68393138,\n",
       "       15.43479953, 18.30721481, 17.7239206 ,  7.13906833, 16.76548207,\n",
       "        8.9023674 , 10.10507222, 20.59436125,  5.48239668, 10.50587568])"
      ]
     },
     "execution_count": 27,
     "metadata": {},
     "output_type": "execute_result"
    }
   ],
   "source": [
    "y_pred_lasso"
   ]
  },
  {
   "cell_type": "code",
   "execution_count": 28,
   "id": "428093c9",
   "metadata": {},
   "outputs": [
    {
     "data": {
      "text/plain": [
       "1.453709668511276"
      ]
     },
     "execution_count": 28,
     "metadata": {},
     "output_type": "execute_result"
    }
   ],
   "source": [
    "(mean_squared_error(y_test, y_pred_lasso))**0.5"
   ]
  },
  {
   "cell_type": "code",
   "execution_count": 29,
   "id": "53910a45",
   "metadata": {},
   "outputs": [
    {
     "data": {
      "text/plain": [
       "0.9300261399604096"
      ]
     },
     "execution_count": 29,
     "metadata": {},
     "output_type": "execute_result"
    }
   ],
   "source": [
    "r2_score(y_test,  y_pred_lasso)"
   ]
  },
  {
   "cell_type": "code",
   "execution_count": 30,
   "id": "f662c8ce",
   "metadata": {},
   "outputs": [],
   "source": [
    "E.fit(x_train,y_train)\n",
    "y_pred_elastic = E.predict(x_test)"
   ]
  },
  {
   "cell_type": "code",
   "execution_count": 31,
   "id": "38f9dc2f",
   "metadata": {},
   "outputs": [
    {
     "data": {
      "text/plain": [
       "1.4524538298766347"
      ]
     },
     "execution_count": 31,
     "metadata": {},
     "output_type": "execute_result"
    }
   ],
   "source": [
    "(mean_squared_error(y_test, y_pred_elastic))**0.5"
   ]
  },
  {
   "cell_type": "code",
   "execution_count": 32,
   "id": "2ba1f3fb",
   "metadata": {},
   "outputs": [
    {
     "data": {
      "text/plain": [
       "0.9301469865385257"
      ]
     },
     "execution_count": 32,
     "metadata": {},
     "output_type": "execute_result"
    }
   ],
   "source": [
    "r2_score(y_test, y_pred_elastic)"
   ]
  },
  {
   "cell_type": "code",
   "execution_count": 33,
   "id": "980ca758",
   "metadata": {},
   "outputs": [],
   "source": [
    "ETR.fit(x_train,y_train)\n",
    "y_pred_etr = ETR.predict(x_test)"
   ]
  },
  {
   "cell_type": "code",
   "execution_count": 34,
   "id": "4c214d8c",
   "metadata": {},
   "outputs": [
    {
     "data": {
      "text/plain": [
       "1.2404636230055275"
      ]
     },
     "execution_count": 34,
     "metadata": {},
     "output_type": "execute_result"
    }
   ],
   "source": [
    "(mean_squared_error(y_test, y_pred_etr))**0.5"
   ]
  },
  {
   "cell_type": "code",
   "execution_count": 35,
   "id": "d617aaf0",
   "metadata": {},
   "outputs": [
    {
     "data": {
      "text/plain": [
       "0.9490494894601563"
      ]
     },
     "execution_count": 35,
     "metadata": {},
     "output_type": "execute_result"
    }
   ],
   "source": [
    "r2_score(y_test, y_pred_etr)"
   ]
  },
  {
   "cell_type": "code",
   "execution_count": 36,
   "id": "cedb33e9",
   "metadata": {},
   "outputs": [],
   "source": [
    "GBR.fit(x_train,y_train)\n",
    "y_pred_gbr =GBR.predict(x_test)"
   ]
  },
  {
   "cell_type": "code",
   "execution_count": 37,
   "id": "08e4c014",
   "metadata": {},
   "outputs": [
    {
     "data": {
      "text/plain": [
       "0.7817761194226571"
      ]
     },
     "execution_count": 37,
     "metadata": {},
     "output_type": "execute_result"
    }
   ],
   "source": [
    "(mean_squared_error(y_test, y_pred_gbr))**0.5"
   ]
  },
  {
   "cell_type": "code",
   "execution_count": 38,
   "id": "290df932",
   "metadata": {},
   "outputs": [
    {
     "data": {
      "text/plain": [
       "0.9797630399483608"
      ]
     },
     "execution_count": 38,
     "metadata": {},
     "output_type": "execute_result"
    }
   ],
   "source": [
    "r2_score(y_test, y_pred_gbr)"
   ]
  },
  {
   "cell_type": "code",
   "execution_count": 39,
   "id": "f7756515",
   "metadata": {},
   "outputs": [],
   "source": [
    "model=est.fit(x_train,y_train)"
   ]
  },
  {
   "cell_type": "code",
   "execution_count": 40,
   "id": "4fa732af",
   "metadata": {},
   "outputs": [],
   "source": [
    "y_pred_knb = model.predict(x_test)"
   ]
  },
  {
   "cell_type": "code",
   "execution_count": 41,
   "id": "47008efb",
   "metadata": {},
   "outputs": [
    {
     "data": {
      "text/plain": [
       "1.698561155802169"
      ]
     },
     "execution_count": 41,
     "metadata": {},
     "output_type": "execute_result"
    }
   ],
   "source": [
    "(mean_squared_error(y_test, y_pred_knb))**0.5"
   ]
  },
  {
   "cell_type": "code",
   "execution_count": 42,
   "id": "77e7a89c",
   "metadata": {},
   "outputs": [
    {
     "data": {
      "text/plain": [
       "0.9044693241503764"
      ]
     },
     "execution_count": 42,
     "metadata": {},
     "output_type": "execute_result"
    }
   ],
   "source": [
    "r2_score(y_test, y_pred_knb)"
   ]
  },
  {
   "cell_type": "markdown",
   "id": "504af04a",
   "metadata": {},
   "source": [
    "### Long Way- İnvest in tv"
   ]
  },
  {
   "cell_type": "code",
   "execution_count": 43,
   "id": "279a68a6",
   "metadata": {},
   "outputs": [],
   "source": [
    "xtv,ytv= df[['TV']],df[['Sales']]"
   ]
  },
  {
   "cell_type": "code",
   "execution_count": 44,
   "id": "928c2db7",
   "metadata": {},
   "outputs": [],
   "source": [
    "xtv_train, xtv_test,ytv_train, ytv_test = train_test_split(xtv,ytv,test_size=0.20,random_state=13)"
   ]
  },
  {
   "cell_type": "code",
   "execution_count": 45,
   "id": "326274f5",
   "metadata": {},
   "outputs": [],
   "source": [
    "regmodel = lr.fit(xtv_train,ytv_train)"
   ]
  },
  {
   "cell_type": "code",
   "execution_count": 46,
   "id": "052230c3",
   "metadata": {},
   "outputs": [
    {
     "data": {
      "text/plain": [
       "array([[14.90551819],\n",
       "       [ 7.42035449],\n",
       "       [17.81152292],\n",
       "       [13.33432903],\n",
       "       [16.3886466 ],\n",
       "       [20.3745542 ],\n",
       "       [20.83803183],\n",
       "       [17.69565351],\n",
       "       [17.44074082],\n",
       "       [15.80003001],\n",
       "       [14.79891833],\n",
       "       [ 8.38902273],\n",
       "       [10.4283243 ],\n",
       "       [19.54029447],\n",
       "       [20.21697181],\n",
       "       [12.31931302],\n",
       "       [ 7.61964987],\n",
       "       [12.60666915],\n",
       "       [18.27036577],\n",
       "       [16.45816824],\n",
       "       [15.03529192],\n",
       "       [ 9.99265533],\n",
       "       [20.8055884 ],\n",
       "       [12.80132976],\n",
       "       [17.21363678],\n",
       "       [17.86714023],\n",
       "       [14.17322354],\n",
       "       [18.09887905],\n",
       "       [20.96780557],\n",
       "       [ 7.48060658],\n",
       "       [12.36102601],\n",
       "       [16.20789032],\n",
       "       [13.62168516],\n",
       "       [10.29391579],\n",
       "       [13.30652037],\n",
       "       [11.74923554],\n",
       "       [13.45483321],\n",
       "       [16.28668152],\n",
       "       [ 9.0008132 ],\n",
       "       [12.20807839]])"
      ]
     },
     "execution_count": 46,
     "metadata": {},
     "output_type": "execute_result"
    }
   ],
   "source": [
    "ytv_pretest = regmodel.predict(xtv_test)\n",
    "ytv_pretest"
   ]
  },
  {
   "cell_type": "code",
   "execution_count": 47,
   "id": "611790cc",
   "metadata": {},
   "outputs": [
    {
     "data": {
      "text/plain": [
       "3.294569183401592"
      ]
     },
     "execution_count": 47,
     "metadata": {},
     "output_type": "execute_result"
    }
   ],
   "source": [
    "(mean_squared_error(ytv_test, ytv_pretest)) ** 0.5"
   ]
  },
  {
   "cell_type": "code",
   "execution_count": 48,
   "id": "2177e977",
   "metadata": {},
   "outputs": [
    {
     "data": {
      "text/plain": [
       "0.6406002771701338"
      ]
     },
     "execution_count": 48,
     "metadata": {},
     "output_type": "execute_result"
    }
   ],
   "source": [
    "r2_score(ytv_test, ytv_pretest)"
   ]
  },
  {
   "cell_type": "code",
   "execution_count": 49,
   "id": "24d0be5e",
   "metadata": {},
   "outputs": [
    {
     "data": {
      "image/png": "[encoded data removed]",
      "text/plain": [
       "<Figure size 432x288 with 1 Axes>"
      ]
     },
     "metadata": {
      "needs_background": "light"
     },
     "output_type": "display_data"
    }
   ],
   "source": [
    "plt.scatter(xtv,ytv,color='red')\n",
    "b,a=np.polyfit(xtv.values.reshape(200),ytv.values.reshape(200),deg=1)\n",
    "xseq=np.linspace(0,300, num=100)\n",
    "plt.plot(xseq,a + b * xseq,color='k',lw=2.5);"
   ]
  },
  {
   "cell_type": "code",
   "execution_count": 50,
   "id": "4e37b50b",
   "metadata": {},
   "outputs": [],
   "source": [
    "R.fit(xtv_train, ytv_train)\n",
    "ytv_pred_ridge = R.predict(xtv_test)\n",
    "\n",
    "L.fit(xtv_train, ytv_train)\n",
    "ytv_pred_lasso = L.predict(xtv_test)\n",
    "\n",
    "E.fit(xtv_train,ytv_train)\n",
    "ytv_pred_elastic = E.predict(xtv_test)\n",
    "\n",
    "ETR.fit(xtv_train,ytv_train)\n",
    "ytv_pred_etr = ETR.predict(xtv_test)\n",
    "\n",
    "GBR.fit(xtv_train,ytv_train)\n",
    "ytv_pred_gbr =GBR.predict(xtv_test)"
   ]
  },
  {
   "cell_type": "code",
   "execution_count": 51,
   "id": "a0dd5407",
   "metadata": {},
   "outputs": [
    {
     "data": {
      "text/plain": [
       "3.29456970058422"
      ]
     },
     "execution_count": 51,
     "metadata": {},
     "output_type": "execute_result"
    }
   ],
   "source": [
    "(mean_squared_error(ytv_test, ytv_pred_ridge))**0.5"
   ]
  },
  {
   "cell_type": "code",
   "execution_count": 52,
   "id": "2e8bab9e",
   "metadata": {},
   "outputs": [
    {
     "data": {
      "text/plain": [
       "0.6406001643327355"
      ]
     },
     "execution_count": 52,
     "metadata": {},
     "output_type": "execute_result"
    }
   ],
   "source": [
    "r2_score(ytv_test, ytv_pred_ridge)"
   ]
  },
  {
   "cell_type": "code",
   "execution_count": 53,
   "id": "2c0bf5fd",
   "metadata": {},
   "outputs": [
    {
     "data": {
      "text/plain": [
       "3.2963746635041313"
      ]
     },
     "execution_count": 53,
     "metadata": {},
     "output_type": "execute_result"
    }
   ],
   "source": [
    "(mean_squared_error(ytv_test, ytv_pred_lasso))**0.5"
   ]
  },
  {
   "cell_type": "code",
   "execution_count": 54,
   "id": "25cffead",
   "metadata": {},
   "outputs": [
    {
     "data": {
      "text/plain": [
       "0.6402062548786426"
      ]
     },
     "execution_count": 54,
     "metadata": {},
     "output_type": "execute_result"
    }
   ],
   "source": [
    "r2_score(ytv_test,  ytv_pred_lasso)"
   ]
  },
  {
   "cell_type": "code",
   "execution_count": 55,
   "id": "f9da15c2",
   "metadata": {},
   "outputs": [
    {
     "data": {
      "text/plain": [
       "3.296200729089119"
      ]
     },
     "execution_count": 55,
     "metadata": {},
     "output_type": "execute_result"
    }
   ],
   "source": [
    "(mean_squared_error(ytv_test, ytv_pred_elastic))**0.5"
   ]
  },
  {
   "cell_type": "code",
   "execution_count": 56,
   "id": "373b6729",
   "metadata": {},
   "outputs": [
    {
     "data": {
      "text/plain": [
       "0.6402442231740756"
      ]
     },
     "execution_count": 56,
     "metadata": {},
     "output_type": "execute_result"
    }
   ],
   "source": [
    "r2_score(ytv_test, ytv_pred_elastic)"
   ]
  },
  {
   "cell_type": "code",
   "execution_count": 57,
   "id": "0bc7930f",
   "metadata": {},
   "outputs": [
    {
     "data": {
      "text/plain": [
       "4.927169572888678"
      ]
     },
     "execution_count": 57,
     "metadata": {},
     "output_type": "execute_result"
    }
   ],
   "source": [
    "(mean_squared_error(ytv_test, ytv_pred_etr))**0.5"
   ]
  },
  {
   "cell_type": "code",
   "execution_count": 58,
   "id": "8f94f9cc",
   "metadata": {},
   "outputs": [
    {
     "data": {
      "text/plain": [
       "0.9490494894601563"
      ]
     },
     "execution_count": 58,
     "metadata": {},
     "output_type": "execute_result"
    }
   ],
   "source": [
    "r2_score(y_test, y_pred_etr)"
   ]
  },
  {
   "cell_type": "code",
   "execution_count": 59,
   "id": "bf7681a4",
   "metadata": {},
   "outputs": [
    {
     "data": {
      "text/plain": [
       "0.7817761194226571"
      ]
     },
     "execution_count": 59,
     "metadata": {},
     "output_type": "execute_result"
    }
   ],
   "source": [
    "(mean_squared_error(y_test, y_pred_gbr))**0.5"
   ]
  },
  {
   "cell_type": "code",
   "execution_count": 60,
   "id": "9561fce8",
   "metadata": {},
   "outputs": [
    {
     "data": {
      "text/plain": [
       "0.4155215031217151"
      ]
     },
     "execution_count": 60,
     "metadata": {},
     "output_type": "execute_result"
    }
   ],
   "source": [
    "r2_score(ytv_test, ytv_pred_gbr)"
   ]
  },
  {
   "cell_type": "markdown",
   "id": "d127edf6",
   "metadata": {},
   "source": [
    "### Long Way- İnvest in radio"
   ]
  },
  {
   "cell_type": "code",
   "execution_count": 61,
   "id": "850e7676",
   "metadata": {},
   "outputs": [],
   "source": [
    "xrd,yrd= df[['Radio']],df[['Sales']]"
   ]
  },
  {
   "cell_type": "code",
   "execution_count": 62,
   "id": "5e8022e8",
   "metadata": {},
   "outputs": [],
   "source": [
    "xrd_train, xrd_test,yrd_train, yrd_test = train_test_split(xrd,yrd,test_size=0.20,random_state=13)"
   ]
  },
  {
   "cell_type": "code",
   "execution_count": 63,
   "id": "561840b8",
   "metadata": {},
   "outputs": [],
   "source": [
    "regmodel = lr.fit(xrd_train,yrd_train)"
   ]
  },
  {
   "cell_type": "code",
   "execution_count": 64,
   "id": "2a46b034",
   "metadata": {},
   "outputs": [],
   "source": [
    "ETR.fit(xrd_train,yrd_train)\n",
    "yrd_pred_etr = ETR.predict(xrd_test)"
   ]
  },
  {
   "cell_type": "code",
   "execution_count": 65,
   "id": "6e948ed3",
   "metadata": {},
   "outputs": [
    {
     "data": {
      "text/plain": [
       "array([[11.35621866],\n",
       "       [11.6556423 ],\n",
       "       [12.64748309],\n",
       "       [12.92819275],\n",
       "       [10.13981014],\n",
       "       [17.34469138],\n",
       "       [14.66859264],\n",
       "       [11.01936707],\n",
       "       [18.65466979],\n",
       "       [13.41475616],\n",
       "       [15.39843775],\n",
       "       [11.54335844],\n",
       "       [11.22522082],\n",
       "       [13.22761639],\n",
       "       [11.37493264],\n",
       "       [18.43010206],\n",
       "       [14.57502275],\n",
       "       [10.92579719],\n",
       "       [15.90371513],\n",
       "       [15.21129798],\n",
       "       [10.81351332],\n",
       "       [11.73049821],\n",
       "       [14.7808765 ],\n",
       "       [13.15276048],\n",
       "       [13.90131957],\n",
       "       [15.52943559],\n",
       "       [ 9.72810264],\n",
       "       [10.12109617],\n",
       "       [16.27799468],\n",
       "       [15.08030014],\n",
       "       [17.0826957 ],\n",
       "       [16.10956888],\n",
       "       [18.16810638],\n",
       "       [10.57023162],\n",
       "       [17.4944032 ],\n",
       "       [10.90708321],\n",
       "       [10.40180583],\n",
       "       [18.41138808],\n",
       "       [10.1772381 ],\n",
       "       [12.10477775]])"
      ]
     },
     "execution_count": 65,
     "metadata": {},
     "output_type": "execute_result"
    }
   ],
   "source": [
    "yrd_pretest = regmodel.predict(xrd_test)\n",
    "yrd_pretest"
   ]
  },
  {
   "cell_type": "code",
   "execution_count": 66,
   "id": "dcc026d4",
   "metadata": {},
   "outputs": [
    {
     "data": {
      "text/plain": [
       "5.35162812713207"
      ]
     },
     "execution_count": 66,
     "metadata": {},
     "output_type": "execute_result"
    }
   ],
   "source": [
    "(mean_squared_error(yrd_test, yrd_pred_etr))**0.5"
   ]
  },
  {
   "cell_type": "code",
   "execution_count": 67,
   "id": "d49f2bf8",
   "metadata": {},
   "outputs": [
    {
     "data": {
      "text/plain": [
       "0.9490494894601563"
      ]
     },
     "execution_count": 67,
     "metadata": {},
     "output_type": "execute_result"
    }
   ],
   "source": [
    "r2_score(y_test, y_pred_etr)"
   ]
  },
  {
   "cell_type": "code",
   "execution_count": 68,
   "id": "f5c3e540",
   "metadata": {},
   "outputs": [
    {
     "data": {
      "image/png": "[encoded data removed]",
      "text/plain": [
       "<Figure size 432x288 with 1 Axes>"
      ]
     },
     "metadata": {
      "needs_background": "light"
     },
     "output_type": "display_data"
    }
   ],
   "source": [
    "plt.scatter(xrd,yrd,color='red')\n",
    "b,a=np.polyfit(xrd.values.reshape(200),yrd.values.reshape(200),deg=1)\n",
    "xseq=np.linspace(0,50, num=100)\n",
    "plt.plot(xseq,a + b * xseq,color='k',lw=2.5);"
   ]
  },
  {
   "cell_type": "markdown",
   "id": "11bd6651",
   "metadata": {},
   "source": [
    "### Long Way- İnvest in Newspaper"
   ]
  },
  {
   "cell_type": "code",
   "execution_count": 69,
   "id": "870b2949",
   "metadata": {},
   "outputs": [],
   "source": [
    "xnw,ynw= df[['Newspaper']],df[['Sales']]"
   ]
  },
  {
   "cell_type": "code",
   "execution_count": 70,
   "id": "e3498335",
   "metadata": {},
   "outputs": [],
   "source": [
    "xnw_train, xnw_test,ynw_train, ynw_test = train_test_split(xnw,ynw,test_size=0.20,random_state=13)"
   ]
  },
  {
   "cell_type": "code",
   "execution_count": 71,
   "id": "c66c267b",
   "metadata": {},
   "outputs": [],
   "source": [
    "regmodel = lr.fit(xnw_train,ynw_train)"
   ]
  },
  {
   "cell_type": "code",
   "execution_count": 72,
   "id": "2304def9",
   "metadata": {},
   "outputs": [],
   "source": [
    "ETR.fit(xnw_train,ynw_train)\n",
    "ynw_pred_etr = ETR.predict(xnw_test)"
   ]
  },
  {
   "cell_type": "code",
   "execution_count": 73,
   "id": "7b9eac79",
   "metadata": {},
   "outputs": [
    {
     "data": {
      "text/plain": [
       "array([[13.43232911],\n",
       "       [12.99497973],\n",
       "       [13.74839672],\n",
       "       [14.05711393],\n",
       "       [13.00233014],\n",
       "       [15.21847866],\n",
       "       [12.85164674],\n",
       "       [14.86198379],\n",
       "       [12.90309961],\n",
       "       [13.59403812],\n",
       "       [14.72967642],\n",
       "       [13.87702889],\n",
       "       [12.8185699 ],\n",
       "       [12.79651867],\n",
       "       [13.57198689],\n",
       "       [14.67454834],\n",
       "       [12.86267236],\n",
       "       [13.63446537],\n",
       "       [12.98027891],\n",
       "       [14.20779733],\n",
       "       [13.25591928],\n",
       "       [14.36950634],\n",
       "       [14.37318155],\n",
       "       [13.21181682],\n",
       "       [14.90241104],\n",
       "       [15.51249505],\n",
       "       [13.67856783],\n",
       "       [15.90206676],\n",
       "       [16.49377474],\n",
       "       [13.13096231],\n",
       "       [15.10822251],\n",
       "       [15.56394791],\n",
       "       [14.95386391],\n",
       "       [13.67489263],\n",
       "       [13.84762726],\n",
       "       [13.05010781],\n",
       "       [13.12728711],\n",
       "       [14.72967642],\n",
       "       [13.29267132],\n",
       "       [13.18609038]])"
      ]
     },
     "execution_count": 73,
     "metadata": {},
     "output_type": "execute_result"
    }
   ],
   "source": [
    "ynw_pretest = regmodel.predict(xnw_test)\n",
    "ynw_pretest"
   ]
  },
  {
   "cell_type": "code",
   "execution_count": 74,
   "id": "559587bb",
   "metadata": {},
   "outputs": [
    {
     "data": {
      "text/plain": [
       "6.821936125470539"
      ]
     },
     "execution_count": 74,
     "metadata": {},
     "output_type": "execute_result"
    }
   ],
   "source": [
    "(mean_squared_error(ynw_test, ynw_pred_etr))**0.5"
   ]
  },
  {
   "cell_type": "code",
   "execution_count": 75,
   "id": "b809228b",
   "metadata": {},
   "outputs": [
    {
     "data": {
      "text/plain": [
       "0.9490494894601563"
      ]
     },
     "execution_count": 75,
     "metadata": {},
     "output_type": "execute_result"
    }
   ],
   "source": [
    "r2_score(y_test, y_pred_etr)"
   ]
  },
  {
   "cell_type": "code",
   "execution_count": 76,
   "id": "68786e65",
   "metadata": {},
   "outputs": [
    {
     "data": {
      "image/png": "[encoded data removed]",
      "text/plain": [
       "<Figure size 432x288 with 1 Axes>"
      ]
     },
     "metadata": {
      "needs_background": "light"
     },
     "output_type": "display_data"
    }
   ],
   "source": [
    "plt.scatter(xnw,ynw,color='red')\n",
    "b,a=np.polyfit(xnw.values.reshape(200),ynw.values.reshape(200),deg=1)\n",
    "xseq=np.linspace(0,100, num=100)\n",
    "plt.plot(xseq,a + b * xseq,color='k',lw=2.5);"
   ]
  },
  {
   "cell_type": "markdown",
   "id": "ee33e96a",
   "metadata": {},
   "source": [
    "#### As can be seen from the graphs, our answer is TV\n",
    "\n",
    "### Part of the sort way\n",
    "\n",
    "### If you want to continue, you can use"
   ]
  },
  {
   "cell_type": "code",
   "execution_count": 77,
   "id": "7da3fb9f",
   "metadata": {},
   "outputs": [],
   "source": [
    "def regresions(dataset,y):\n",
    "    LR=LinearRegression()\n",
    "    Las=Lasso()\n",
    "    R=Ridge()\n",
    "    ETR=ExtraTreeRegressor()\n",
    "    GBR=GradientBoostingRegressor()\n",
    "    KNR=KNeighborsRegressor()\n",
    "    x=dataset.drop([y],axis=1)\n",
    "    y=dataset[y]\n",
    "    \n",
    "    x_train,x_test,y_train,y_test=train_test_split(x,y,test_size=0.2,random_state=13)\n",
    "\n",
    "    regs=[LR,Las,R,ETR,KNR,GBR]\n",
    "    regs_name=[\"Linear\",\"Lasso\",\"Ridge\",\"ExtraTree\",'KNeighbour','Gradient']\n",
    "\n",
    "    r2=[]\n",
    "    mean_s=[]\n",
    "    mean_a=[]\n",
    "    for reg in regs:\n",
    "        model=reg.fit(x_train,y_train)\n",
    "        y_pred=model.predict(x_test)\n",
    "        mean_s.append(mean_squared_error(y_test,y_pred)**0.5)\n",
    "        r2.append(r2_score(y_test,y_pred))\n",
    "        mean_a.append(mean_absolute_error(y_test,y_pred))\n",
    "        \n",
    "    df={\"mean_absolute_error\":mean_a,\"mean_squared_error\":mean_s,\"r2_score\":r2}\n",
    "    a2={'RealData':y_test,'EstimatedData':y_pred}\n",
    "    df2=pd.DataFrame(a2)\n",
    "    df=pd.DataFrame(df,index=regs_name)\n",
    "    return df,df2,model"
   ]
  },
  {
   "cell_type": "code",
   "execution_count": 78,
   "id": "98725e7c",
   "metadata": {},
   "outputs": [],
   "source": [
    "a1,a2,model=regresions(df,'Sales')"
   ]
  },
  {
   "cell_type": "code",
   "execution_count": 79,
   "id": "12b13703",
   "metadata": {
    "collapsed": true
   },
   "outputs": [
    {
     "data": {
      "text/html": [
       "<div>\n",
       "<style scoped>\n",
       "    .dataframe tbody tr th:only-of-type {\n",
       "        vertical-align: middle;\n",
       "    }\n",
       "\n",
       "    .dataframe tbody tr th {\n",
       "        vertical-align: top;\n",
       "    }\n",
       "\n",
       "    .dataframe thead th {\n",
       "        text-align: right;\n",
       "    }\n",
       "</style>\n",
       "<table border=\"1\" class=\"dataframe\">\n",
       "  <thead>\n",
       "    <tr style=\"text-align: right;\">\n",
       "      <th></th>\n",
       "      <th>RealData</th>\n",
       "      <th>EstimatedData</th>\n",
       "    </tr>\n",
       "  </thead>\n",
       "  <tbody>\n",
       "    <tr>\n",
       "      <th>179</th>\n",
       "      <td>12.6</td>\n",
       "      <td>13.263639</td>\n",
       "    </tr>\n",
       "    <tr>\n",
       "      <th>155</th>\n",
       "      <td>3.2</td>\n",
       "      <td>4.676249</td>\n",
       "    </tr>\n",
       "    <tr>\n",
       "      <th>23</th>\n",
       "      <td>15.5</td>\n",
       "      <td>15.523431</td>\n",
       "    </tr>\n",
       "    <tr>\n",
       "      <th>159</th>\n",
       "      <td>12.9</td>\n",
       "      <td>12.893008</td>\n",
       "    </tr>\n",
       "    <tr>\n",
       "      <th>96</th>\n",
       "      <td>11.7</td>\n",
       "      <td>11.415367</td>\n",
       "    </tr>\n",
       "  </tbody>\n",
       "</table>\n",
       "</div>"
      ],
      "text/plain": [
       "     RealData  EstimatedData\n",
       "179      12.6      13.263639\n",
       "155       3.2       4.676249\n",
       "23       15.5      15.523431\n",
       "159      12.9      12.893008\n",
       "96       11.7      11.415367"
      ]
     },
     "execution_count": 79,
     "metadata": {},
     "output_type": "execute_result"
    }
   ],
   "source": [
    "a2.head()"
   ]
  },
  {
   "cell_type": "code",
   "execution_count": 80,
   "id": "86331775",
   "metadata": {},
   "outputs": [
    {
     "data": {
      "text/html": [
       "<div>\n",
       "<style scoped>\n",
       "    .dataframe tbody tr th:only-of-type {\n",
       "        vertical-align: middle;\n",
       "    }\n",
       "\n",
       "    .dataframe tbody tr th {\n",
       "        vertical-align: top;\n",
       "    }\n",
       "\n",
       "    .dataframe thead th {\n",
       "        text-align: right;\n",
       "    }\n",
       "</style>\n",
       "<table border=\"1\" class=\"dataframe\">\n",
       "  <thead>\n",
       "    <tr style=\"text-align: right;\">\n",
       "      <th></th>\n",
       "      <th>mean_absolute_error</th>\n",
       "      <th>mean_squared_error</th>\n",
       "      <th>r2_score</th>\n",
       "    </tr>\n",
       "  </thead>\n",
       "  <tbody>\n",
       "    <tr>\n",
       "      <th>KNeighbour</th>\n",
       "      <td>1.192500</td>\n",
       "      <td>1.698561</td>\n",
       "      <td>0.904469</td>\n",
       "    </tr>\n",
       "    <tr>\n",
       "      <th>Lasso</th>\n",
       "      <td>1.182754</td>\n",
       "      <td>1.453710</td>\n",
       "      <td>0.930026</td>\n",
       "    </tr>\n",
       "    <tr>\n",
       "      <th>Ridge</th>\n",
       "      <td>1.180097</td>\n",
       "      <td>1.445044</td>\n",
       "      <td>0.930858</td>\n",
       "    </tr>\n",
       "    <tr>\n",
       "      <th>Linear</th>\n",
       "      <td>1.180093</td>\n",
       "      <td>1.445033</td>\n",
       "      <td>0.930859</td>\n",
       "    </tr>\n",
       "    <tr>\n",
       "      <th>ExtraTree</th>\n",
       "      <td>1.087500</td>\n",
       "      <td>1.440573</td>\n",
       "      <td>0.931285</td>\n",
       "    </tr>\n",
       "    <tr>\n",
       "      <th>Gradient</th>\n",
       "      <td>0.611606</td>\n",
       "      <td>0.782076</td>\n",
       "      <td>0.979748</td>\n",
       "    </tr>\n",
       "  </tbody>\n",
       "</table>\n",
       "</div>"
      ],
      "text/plain": [
       "            mean_absolute_error  mean_squared_error  r2_score\n",
       "KNeighbour             1.192500            1.698561  0.904469\n",
       "Lasso                  1.182754            1.453710  0.930026\n",
       "Ridge                  1.180097            1.445044  0.930858\n",
       "Linear                 1.180093            1.445033  0.930859\n",
       "ExtraTree              1.087500            1.440573  0.931285\n",
       "Gradient               0.611606            0.782076  0.979748"
      ]
     },
     "execution_count": 80,
     "metadata": {},
     "output_type": "execute_result"
    }
   ],
   "source": [
    "a1.sort_values('r2_score')"
   ]
  },
  {
   "cell_type": "code",
   "execution_count": 81,
   "id": "cf0e9594",
   "metadata": {},
   "outputs": [
    {
     "data": {
      "text/plain": [
       "<AxesSubplot:xlabel='RealData', ylabel='EstimatedData'>"
      ]
     },
     "execution_count": 81,
     "metadata": {},
     "output_type": "execute_result"
    },
    {
     "data": {
      "image/png": "[encoded data removed]",
      "text/plain": [
       "<Figure size 432x288 with 1 Axes>"
      ]
     },
     "metadata": {
      "needs_background": "light"
     },
     "output_type": "display_data"
    }
   ],
   "source": [
    "sns.lineplot(a2.RealData,a2.EstimatedData)"
   ]
  },
  {
   "cell_type": "code",
   "execution_count": null,
   "id": "0f6d06ec",
   "metadata": {},
   "outputs": [],
   "source": []
  }
 ],
 "metadata": {
  "kernelspec": {
   "display_name": "Python 3 (ipykernel)",
   "language": "python",
   "name": "python3"
  },
  "language_info": {
   "codemirror_mode": {
    "name": "ipython",
    "version": 3
   },
   "file_extension": ".py",
   "mimetype": "text/x-python",
   "name": "python",
   "nbconvert_exporter": "python",
   "pygments_lexer": "ipython3",
   "version": "3.9.12"
  }
 },
 "nbformat": 4,
 "nbformat_minor": 5
}
